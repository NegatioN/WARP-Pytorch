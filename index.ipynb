{
 "cells": [
  {
   "cell_type": "code",
   "execution_count": null,
   "metadata": {},
   "outputs": [],
   "source": [
    "#hide\n",
    "from warp_loss.losses import warp_loss"
   ]
  },
  {
   "cell_type": "markdown",
   "metadata": {},
   "source": [
    "# WARP-Pytorch\n",
    "\n",
    "> An implementation of WARP loss which uses matrixes and stays on the GPU in PyTorch."
   ]
  },
  {
   "cell_type": "markdown",
   "metadata": {},
   "source": [
    "An implementation of WARP loss which uses matrixes and stays on the GPU in PyTorch.\n",
    "\n",
    "This means instead of using a for-loop to find the first offending negative sample that ranks above our positive,\n",
    "we compute all of them at once. Only later do we find which sample is the first offender, and compute the loss with\n",
    "respect to this sample.\n",
    "\n",
    "The advantage is that it can use the speedups that comes with GPU-usage. \n",
    "\n",
    "## When is WARP loss advantageous?\n",
    "If you're ranking items or making models for recommendations, it's often advantageous to let your loss function directly\n",
    "optimize for this case. WARP loss looks at 1 explicit positive up against the implicit negative items that a user never sampled,\n",
    "and allows us to adjust weights of the network accordingly.\n"
   ]
  },
  {
   "cell_type": "markdown",
   "metadata": {},
   "source": [
    "## Install"
   ]
  },
  {
   "cell_type": "markdown",
   "metadata": {},
   "source": [
    "`pip install warp_loss`"
   ]
  },
  {
   "cell_type": "markdown",
   "metadata": {},
   "source": [
    "## How to use"
   ]
  },
  {
   "cell_type": "markdown",
   "metadata": {},
   "source": [
    "The loss function requires scores for both positive examples, and negative examples to be supplied, such as in the example below."
   ]
  },
  {
   "cell_type": "code",
   "execution_count": null,
   "metadata": {},
   "outputs": [],
   "source": [
    "from torch import nn\n",
    "import torch\n",
    "\n",
    "class OurModel(nn.Module):\n",
    "    def __init__(self, num_labels, emb_dim=10):\n",
    "        super(OurModel, self).__init__()\n",
    "        self.emb = nn.Embedding(num_labels, emb_dim)\n",
    "        self.user_embs = nn.Embedding(1, emb_dim)\n",
    "\n",
    "    def forward(self, pos, neg):\n",
    "        batch_size = neg.size(0)\n",
    "        one_user_vector = self.user_embs(torch.zeros(1).long())\n",
    "        repeated_user_vector = one_user_vector.repeat((batch_size, 1)).view(batch_size, -1, 1)\n",
    "        pos_res = torch.bmm(self.emb(pos), repeated_user_vector).squeeze(2)\n",
    "        neg_res = torch.bmm(self.emb(neg), repeated_user_vector).squeeze(2)\n",
    "\n",
    "        return pos_res, neg_res\n",
    "        \n",
    "num_labels = 100\n",
    "model = OurModel(num_labels)"
   ]
  },
  {
   "cell_type": "code",
   "execution_count": null,
   "metadata": {},
   "outputs": [
    {
     "name": "stdout",
     "output_type": "stream",
     "text": "Positive Labels: tensor([[65],\n        [94],\n        [21]])\nNegative Labels: tensor([[ 8, 45],\n        [37, 93],\n        [88, 84]])\nModel positive scores: tensor([[-3.7806],\n        [-1.9974],\n        [-4.1741]], grad_fn=<SqueezeBackward1>)\nModel negative scores: tensor([[-1.5696, -4.4905],\n        [-1.9300, -0.3826],\n        [ 2.4564, -2.1741]], grad_fn=<SqueezeBackward1>)\nLoss: tensor(54.7226, grad_fn=<SumBackward0>)\n"
    }
   ],
   "source": [
    "pos_labels = torch.randint(high=num_labels, size=(3,1)) # our five labels\n",
    "neg_labels = torch.randint(high=num_labels, size=(3,2)) # a few random negatives per positive\n",
    "\n",
    "pos_res, neg_res = model(pos_labels, neg_labels)\n",
    "print('Positive Labels:', pos_labels)\n",
    "print('Negative Labels:', neg_labels)\n",
    "print('Model positive scores:', pos_res)\n",
    "print('Model negative scores:', neg_res)\n",
    "loss = warp_loss(pos_res, neg_res, num_labels=num_labels, device=torch.device('cpu'))\n",
    "print('Loss:', loss)\n",
    "loss.backward()"
   ]
  },
  {
   "cell_type": "code",
   "execution_count": null,
   "metadata": {},
   "outputs": [
    {
     "name": "stdout",
     "output_type": "stream",
     "text": "We can also see that the gradient is only active for 2x the number of positive labels: 6\nMeaning we correctly discard the gradients for all other than the offending negative label.\n"
    }
   ],
   "source": [
    "print('We can also see that the gradient is only active for 2x the number of positive labels:', (model.emb.weight.grad.sum(1) != 0).sum().item())\n",
    "print('Meaning we correctly discard the gradients for all other than the offending negative label.')"
   ]
  },
  {
   "cell_type": "markdown",
   "execution_count": null,
   "metadata": {},
   "outputs": [
    {
     "ename": "SyntaxError",
     "evalue": "invalid syntax (<ipython-input-3-c00e2dec4ec7>, line 2)",
     "output_type": "error",
     "traceback": [
      "\u001b[0;36m  File \u001b[0;32m\"<ipython-input-3-c00e2dec4ec7>\"\u001b[0;36m, line \u001b[0;32m2\u001b[0m\n\u001b[0;31m    The loss function assumes you have already sampled your negatives randomly.\u001b[0m\n\u001b[0m           ^\u001b[0m\n\u001b[0;31mSyntaxError\u001b[0m\u001b[0;31m:\u001b[0m invalid syntax\n"
     ]
    }
   ],
   "source": [
    "## Assumptions\n",
    "The loss function assumes you have already sampled your negatives randomly.\n",
    "\n",
    "As an example this could be done in your dataloader:\n",
    "\n",
    "1. Assume we have a total dataset of 100 items\n",
    "2. Select a positive sample with index 8\n",
    "2. Your negatives should be a random selection from 0-100 excluding 8.\n",
    "\n",
    "Ex input to loss function: model scores for pos: [8] neg: [88, 3, 99, 7]\n",
    "\n",
    "Currently only tested on PyTorch v0.4\n",
    "\n",
    "### References\n",
    "* [WSABIE: Scaling Up To Large Vocabulary Image Annotation](https://static.googleusercontent.com/media/research.google.com/en//pubs/archive/37180.pdf)\n",
    "* [Intro to WARP loss - Automatic differentiation and PyTorch](https://medium.com/@gabrieltseng/intro-to-warp-loss-automatic-differentiation-and-pytorch-b6aa5083187a)\n",
    "* [LightFM](https://github.com/lyst/lightfm) as a reference implementaiton"
   ]
  },
  {
   "cell_type": "code",
   "execution_count": null,
   "metadata": {},
   "outputs": [],
   "source": []
  }
 ],
 "metadata": {
  "kernelspec": {
   "display_name": "Python 3",
   "language": "python",
   "name": "python3"
  }
 },
 "nbformat": 4,
 "nbformat_minor": 2
}
